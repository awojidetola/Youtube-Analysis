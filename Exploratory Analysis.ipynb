{
 "cells": [
  {
   "cell_type": "markdown",
   "metadata": {},
   "source": [
    "# Youtube Analysis\n",
    "## Goals: Prepare a Report and a Power BI Dashboard\n",
    "\n",
    "### Report\n",
    "\n",
    "+ Should contain details about Youtube\n",
    "+ Should contain details about Top 5 Youtubers\n",
    "+ Should contain detialed analysis, visuals, specific pictures et al.\n",
    "+ Should answer all the specified 10 questions (and more). \n",
    "+ Should give details on Engagement Rate, Views Average and similar terminologies\n",
    "+ Should give reference to Kaggle Datasource\n",
    "\n",
    "### Dashboard\n",
    "\n",
    "+ Should be done using PowerBI\n",
    "+ Should contain only visuals and cards\n",
    "+ Should answer all the questions"
   ]
  },
  {
   "cell_type": "markdown",
   "metadata": {},
   "source": [
    "## Questions to answer\n",
    "\n",
    "+ Which country has the highest top Youtubers\n",
    "+ Which youtuber has the highest number of likes\n",
    "+ Which youtuber has the highest number of views\n",
    "+ Which youtuber has the hgihest number of followers\n",
    "+ Is there a relationship between number of followers and number of views\n",
    "+ What is the Views Average for the top 10 Youtubers (Bar Chart - Google what views average means)\n",
    "+ Which Main Video Category is the most popular among the top youtubers\n",
    "+ Relationship between engagement and views\n",
    "+ Youtuber with the highest engagment rate\n",
    "+ What is the most popular youtube content topic"
   ]
  },
  {
   "cell_type": "markdown",
   "metadata": {},
   "source": [
    "## Terminologies\n",
    "\n",
    "+ What is Engagement Rate?\n",
    "+ What is Views Average?"
   ]
  },
  {
   "cell_type": "code",
   "execution_count": 1,
   "metadata": {},
   "outputs": [],
   "source": [
    "import pandas as pd\n",
    "import numpy as np\n",
    "import seaborn as sns\n",
    "import matplotlib.pyplot as plt"
   ]
  },
  {
   "cell_type": "code",
   "execution_count": 2,
   "metadata": {},
   "outputs": [],
   "source": [
    "data = pd.read_csv(\"top_200_youtubers.csv\")"
   ]
  },
  {
   "cell_type": "code",
   "execution_count": 3,
   "metadata": {},
   "outputs": [
    {
     "data": {
      "text/html": [
       "<div>\n",
       "<style scoped>\n",
       "    .dataframe tbody tr th:only-of-type {\n",
       "        vertical-align: middle;\n",
       "    }\n",
       "\n",
       "    .dataframe tbody tr th {\n",
       "        vertical-align: top;\n",
       "    }\n",
       "\n",
       "    .dataframe thead th {\n",
       "        text-align: right;\n",
       "    }\n",
       "</style>\n",
       "<table border=\"1\" class=\"dataframe\">\n",
       "  <thead>\n",
       "    <tr style=\"text-align: right;\">\n",
       "      <th></th>\n",
       "      <th>Country</th>\n",
       "      <th>Channel Name</th>\n",
       "      <th>Category</th>\n",
       "      <th>Main Video Category</th>\n",
       "      <th>username</th>\n",
       "      <th>followers</th>\n",
       "      <th>Main topic</th>\n",
       "      <th>More topics</th>\n",
       "      <th>Likes</th>\n",
       "      <th>Boost Index</th>\n",
       "      <th>...</th>\n",
       "      <th>Views</th>\n",
       "      <th>Views Avg.</th>\n",
       "      <th>Avg. 1 Day</th>\n",
       "      <th>Avg. 3 Day</th>\n",
       "      <th>Avg. 7 Day</th>\n",
       "      <th>Avg. 14 Day</th>\n",
       "      <th>Avg. 30 day</th>\n",
       "      <th>Avg. 60 day</th>\n",
       "      <th>Comments Avg</th>\n",
       "      <th>Youtube Link</th>\n",
       "    </tr>\n",
       "  </thead>\n",
       "  <tbody>\n",
       "    <tr>\n",
       "      <th>0</th>\n",
       "      <td>IN</td>\n",
       "      <td>T-Series</td>\n",
       "      <td>Gaming &amp; Apps</td>\n",
       "      <td>Music</td>\n",
       "      <td>T-Series</td>\n",
       "      <td>220000000</td>\n",
       "      <td>Music of Asia</td>\n",
       "      <td>Entertainment,Music of Asia,Music,Movies</td>\n",
       "      <td>1.602680e+09</td>\n",
       "      <td>83</td>\n",
       "      <td>...</td>\n",
       "      <td>195660744416</td>\n",
       "      <td>2.095329e+06</td>\n",
       "      <td>1.522448e+05</td>\n",
       "      <td>2134569.625</td>\n",
       "      <td>1.809830e+06</td>\n",
       "      <td>2.306178e+06</td>\n",
       "      <td>1.676330e+06</td>\n",
       "      <td>2.295416e+06</td>\n",
       "      <td>4493.984146</td>\n",
       "      <td>UCq-Fj5jknLsUf-MWSy4_brA</td>\n",
       "    </tr>\n",
       "    <tr>\n",
       "      <th>1</th>\n",
       "      <td>US</td>\n",
       "      <td>ABCkidTV - Nursery Rhymes</td>\n",
       "      <td>Gaming &amp; Apps</td>\n",
       "      <td>Education</td>\n",
       "      <td>ABCkidTV - Nursery Rhymes</td>\n",
       "      <td>138000000</td>\n",
       "      <td>Movies</td>\n",
       "      <td>Entertainment,Music,Movies</td>\n",
       "      <td>2.209901e+08</td>\n",
       "      <td>63</td>\n",
       "      <td>...</td>\n",
       "      <td>133025325473</td>\n",
       "      <td>7.027126e+07</td>\n",
       "      <td>1.837916e+06</td>\n",
       "      <td>1837916.000</td>\n",
       "      <td>4.891832e+06</td>\n",
       "      <td>7.052576e+06</td>\n",
       "      <td>1.265433e+07</td>\n",
       "      <td>1.572284e+07</td>\n",
       "      <td>146.700252</td>\n",
       "      <td>UCbCmjCuTUZos6Inko4u57UQ</td>\n",
       "    </tr>\n",
       "    <tr>\n",
       "      <th>2</th>\n",
       "      <td>IN</td>\n",
       "      <td>SET India</td>\n",
       "      <td>Gaming &amp; Apps</td>\n",
       "      <td>Shows</td>\n",
       "      <td>SET India</td>\n",
       "      <td>137000000</td>\n",
       "      <td>Movies</td>\n",
       "      <td>Entertainment,TV shows,Music,Movies</td>\n",
       "      <td>1.748752e+08</td>\n",
       "      <td>79</td>\n",
       "      <td>...</td>\n",
       "      <td>121741739317</td>\n",
       "      <td>1.095729e+05</td>\n",
       "      <td>NaN</td>\n",
       "      <td>586040.000</td>\n",
       "      <td>2.801276e+05</td>\n",
       "      <td>3.437881e+05</td>\n",
       "      <td>3.536019e+05</td>\n",
       "      <td>3.220336e+05</td>\n",
       "      <td>76.244316</td>\n",
       "      <td>UCpEhnqL0y41EpW2TvWAHD7Q</td>\n",
       "    </tr>\n",
       "    <tr>\n",
       "      <th>3</th>\n",
       "      <td>US</td>\n",
       "      <td>PewDiePie</td>\n",
       "      <td>Gaming &amp; Apps</td>\n",
       "      <td>Gaming</td>\n",
       "      <td>PewDiePie</td>\n",
       "      <td>111000000</td>\n",
       "      <td>Lifestyle</td>\n",
       "      <td>Gaming,Action game,Lifestyle,Action-adventure ...</td>\n",
       "      <td>2.191406e+09</td>\n",
       "      <td>88</td>\n",
       "      <td>...</td>\n",
       "      <td>28424113942</td>\n",
       "      <td>7.718345e+06</td>\n",
       "      <td>NaN</td>\n",
       "      <td>NaN</td>\n",
       "      <td>3.497395e+06</td>\n",
       "      <td>3.094440e+06</td>\n",
       "      <td>3.620274e+06</td>\n",
       "      <td>4.454120e+06</td>\n",
       "      <td>35839.781347</td>\n",
       "      <td>UC-lHJZR3Gqxm24_Vd_AJ5Yw</td>\n",
       "    </tr>\n",
       "    <tr>\n",
       "      <th>4</th>\n",
       "      <td>US</td>\n",
       "      <td>MrBeast</td>\n",
       "      <td>Gaming &amp; Apps</td>\n",
       "      <td>Entertainment</td>\n",
       "      <td>MrBeast</td>\n",
       "      <td>98100000</td>\n",
       "      <td>Lifestyle</td>\n",
       "      <td>Entertainment,Lifestyle,Technology</td>\n",
       "      <td>1.731833e+09</td>\n",
       "      <td>60</td>\n",
       "      <td>...</td>\n",
       "      <td>16242634269</td>\n",
       "      <td>9.876250e+07</td>\n",
       "      <td>NaN</td>\n",
       "      <td>NaN</td>\n",
       "      <td>2.994102e+07</td>\n",
       "      <td>2.994102e+07</td>\n",
       "      <td>2.994102e+07</td>\n",
       "      <td>5.343473e+07</td>\n",
       "      <td>113432.373684</td>\n",
       "      <td>UCX6OQ3DkcsbYNE6H8uQQuVA</td>\n",
       "    </tr>\n",
       "  </tbody>\n",
       "</table>\n",
       "<p>5 rows × 22 columns</p>\n",
       "</div>"
      ],
      "text/plain": [
       "  Country               Channel Name       Category Main Video Category  \\\n",
       "0      IN                   T-Series  Gaming & Apps               Music   \n",
       "1      US  ABCkidTV - Nursery Rhymes  Gaming & Apps           Education   \n",
       "2      IN                  SET India  Gaming & Apps               Shows   \n",
       "3      US                  PewDiePie  Gaming & Apps              Gaming   \n",
       "4      US                    MrBeast  Gaming & Apps       Entertainment   \n",
       "\n",
       "                    username  followers     Main topic  \\\n",
       "0                   T-Series  220000000  Music of Asia   \n",
       "1  ABCkidTV - Nursery Rhymes  138000000         Movies   \n",
       "2                  SET India  137000000         Movies   \n",
       "3                  PewDiePie  111000000      Lifestyle   \n",
       "4                    MrBeast   98100000      Lifestyle   \n",
       "\n",
       "                                         More topics         Likes  \\\n",
       "0           Entertainment,Music of Asia,Music,Movies  1.602680e+09   \n",
       "1                         Entertainment,Music,Movies  2.209901e+08   \n",
       "2                Entertainment,TV shows,Music,Movies  1.748752e+08   \n",
       "3  Gaming,Action game,Lifestyle,Action-adventure ...  2.191406e+09   \n",
       "4                 Entertainment,Lifestyle,Technology  1.731833e+09   \n",
       "\n",
       "   Boost Index  ...         Views    Views Avg.    Avg. 1 Day   Avg. 3 Day  \\\n",
       "0           83  ...  195660744416  2.095329e+06  1.522448e+05  2134569.625   \n",
       "1           63  ...  133025325473  7.027126e+07  1.837916e+06  1837916.000   \n",
       "2           79  ...  121741739317  1.095729e+05           NaN   586040.000   \n",
       "3           88  ...   28424113942  7.718345e+06           NaN          NaN   \n",
       "4           60  ...   16242634269  9.876250e+07           NaN          NaN   \n",
       "\n",
       "     Avg. 7 Day   Avg. 14 Day   Avg. 30 day   Avg. 60 day   Comments Avg  \\\n",
       "0  1.809830e+06  2.306178e+06  1.676330e+06  2.295416e+06    4493.984146   \n",
       "1  4.891832e+06  7.052576e+06  1.265433e+07  1.572284e+07     146.700252   \n",
       "2  2.801276e+05  3.437881e+05  3.536019e+05  3.220336e+05      76.244316   \n",
       "3  3.497395e+06  3.094440e+06  3.620274e+06  4.454120e+06   35839.781347   \n",
       "4  2.994102e+07  2.994102e+07  2.994102e+07  5.343473e+07  113432.373684   \n",
       "\n",
       "               Youtube Link  \n",
       "0  UCq-Fj5jknLsUf-MWSy4_brA  \n",
       "1  UCbCmjCuTUZos6Inko4u57UQ  \n",
       "2  UCpEhnqL0y41EpW2TvWAHD7Q  \n",
       "3  UC-lHJZR3Gqxm24_Vd_AJ5Yw  \n",
       "4  UCX6OQ3DkcsbYNE6H8uQQuVA  \n",
       "\n",
       "[5 rows x 22 columns]"
      ]
     },
     "execution_count": 3,
     "metadata": {},
     "output_type": "execute_result"
    }
   ],
   "source": [
    "data.head()"
   ]
  },
  {
   "cell_type": "code",
   "execution_count": 4,
   "metadata": {},
   "outputs": [],
   "source": [
    "data = data.drop_duplicates(subset='Channel Name', keep='first', inplace=False, ignore_index=False)"
   ]
  },
  {
   "cell_type": "code",
   "execution_count": 5,
   "metadata": {},
   "outputs": [],
   "source": [
    "data.to_csv(\"clean_youtube_data.csv\")"
   ]
  },
  {
   "cell_type": "code",
   "execution_count": 6,
   "metadata": {},
   "outputs": [
    {
     "data": {
      "text/plain": [
       "US      67\n",
       "IN      45\n",
       "BR       8\n",
       "CA       4\n",
       "IE       3\n",
       "ID       3\n",
       "CO       3\n",
       "TH       3\n",
       "KR       3\n",
       "MX       3\n",
       "RU       2\n",
       "PH       2\n",
       "AE       2\n",
       "PR       2\n",
       "ES       2\n",
       "NO       1\n",
       "NL       1\n",
       "KW       1\n",
       "AU       1\n",
       "PK       1\n",
       "GB       1\n",
       "AR       1\n",
       "ES\\n     1\n",
       "SV       1\n",
       "CL       1\n",
       "BY       1\n",
       "SO       1\n",
       "Name: Country, dtype: int64"
      ]
     },
     "execution_count": 6,
     "metadata": {},
     "output_type": "execute_result"
    }
   ],
   "source": [
    "#Which counntry has the highest number of top youtubers\n",
    "data.Country.value_counts() \n",
    "#United States with 67 and India with 45"
   ]
  },
  {
   "cell_type": "code",
   "execution_count": 7,
   "metadata": {},
   "outputs": [
    {
     "data": {
      "text/plain": [
       "Channel Name\n",
       "PewDiePie                           2.191406e+09\n",
       "MrBeast                             1.731833e+09\n",
       "BANGTANTV                           1.640738e+09\n",
       "T-Series                            1.602680e+09\n",
       "Fernanfloo                          9.374271e+08\n",
       "                                        ...     \n",
       "Rihanna                             1.205009e+06\n",
       "Adele                               1.187550e+06\n",
       "Luis Fonsi                          7.906159e+05\n",
       "News                                0.000000e+00\n",
       "قناة طيور الجنة | toyoraljanahtv    0.000000e+00\n",
       "Name: Likes, Length: 200, dtype: float64"
      ]
     },
     "execution_count": 7,
     "metadata": {},
     "output_type": "execute_result"
    }
   ],
   "source": [
    "#Which youtuber has the highest number of likes\n",
    "data.groupby('Channel Name')['Likes'].sum().sort_values(ascending=False)\n",
    "#PewDiePie"
   ]
  },
  {
   "cell_type": "code",
   "execution_count": 8,
   "metadata": {},
   "outputs": [
    {
     "data": {
      "text/plain": [
       "Channel Name\n",
       "T-Series                                    195660744416\n",
       "ABCkidTV - Nursery Rhymes                   133025325473\n",
       "SET India                                   121741739317\n",
       "SAB TV                                       80431073293\n",
       "Like Nastya                                  80111555805\n",
       "                                                ...     \n",
       "Yuya                                          2582756055\n",
       "Amit Bhadana                                  2227021034\n",
       "ZHC                                           2186015533\n",
       "Super JoJo - Nursery Rhymes & Kids Songs       994418044\n",
       "News                                                   0\n",
       "Name: Views, Length: 200, dtype: int64"
      ]
     },
     "execution_count": 8,
     "metadata": {},
     "output_type": "execute_result"
    }
   ],
   "source": [
    "#Which youtuber has the highest number of views\n",
    "data.groupby('Channel Name')['Views'].sum().sort_values(ascending=False)\n",
    "#T-Series"
   ]
  },
  {
   "cell_type": "code",
   "execution_count": 9,
   "metadata": {},
   "outputs": [
    {
     "data": {
      "text/plain": [
       "'T-Series'"
      ]
     },
     "execution_count": 9,
     "metadata": {},
     "output_type": "execute_result"
    }
   ],
   "source": [
    "#Which youtuber has the highest number of followers\n",
    "data.groupby('Channel Name')['followers'].sum().sort_values(ascending=False).index[0]\n",
    "#T-Series"
   ]
  },
  {
   "cell_type": "code",
   "execution_count": 10,
   "metadata": {},
   "outputs": [
    {
     "data": {
      "image/png": "[encoded data removed]",
      "text/plain": [
       "<Figure size 432x288 with 1 Axes>"
      ]
     },
     "metadata": {
      "needs_background": "light"
     },
     "output_type": "display_data"
    },
    {
     "data": {
      "text/plain": [
       "0.827280801190578"
      ]
     },
     "execution_count": 10,
     "metadata": {},
     "output_type": "execute_result"
    }
   ],
   "source": [
    "#Relationship between number of followers and number of views\n",
    "plt.scatter(data.followers, data.Views)\n",
    "plt.show()\n",
    "data.followers.corr(data.Views) #High Correlation (0.827)"
   ]
  },
  {
   "cell_type": "code",
   "execution_count": 11,
   "metadata": {},
   "outputs": [],
   "source": [
    "views_avg = data.groupby('Channel Name')['Views Avg.'].sum().nlargest(10)"
   ]
  },
  {
   "cell_type": "code",
   "execution_count": 12,
   "metadata": {},
   "outputs": [
    {
     "data": {
      "text/plain": [
       "<matplotlib.axes._subplots.AxesSubplot at 0x1eb45a48f08>"
      ]
     },
     "execution_count": 12,
     "metadata": {},
     "output_type": "execute_result"
    },
    {
     "data": {
      "image/png": "[encoded data removed]",
      "text/plain": [
       "<Figure size 432x288 with 1 Axes>"
      ]
     },
     "metadata": {
      "needs_background": "light"
     },
     "output_type": "display_data"
    }
   ],
   "source": [
    "views_avg.plot.bar()"
   ]
  },
  {
   "cell_type": "code",
   "execution_count": 13,
   "metadata": {},
   "outputs": [
    {
     "data": {
      "text/plain": [
       "<matplotlib.axes._subplots.AxesSubplot at 0x1eb45ae5c48>"
      ]
     },
     "execution_count": 13,
     "metadata": {},
     "output_type": "execute_result"
    },
    {
     "data": {
      "image/png": "[encoded data removed]",
      "text/plain": [
       "<Figure size 432x288 with 1 Axes>"
      ]
     },
     "metadata": {
      "needs_background": "light"
     },
     "output_type": "display_data"
    }
   ],
   "source": [
    "data['Main Video Category'].value_counts().plot.bar()"
   ]
  },
  {
   "cell_type": "code",
   "execution_count": 14,
   "metadata": {},
   "outputs": [
    {
     "data": {
      "text/plain": [
       "-0.03873746738188439"
      ]
     },
     "execution_count": 14,
     "metadata": {},
     "output_type": "execute_result"
    },
    {
     "data": {
      "image/png": "[encoded data removed]",
      "text/plain": [
       "<Figure size 432x288 with 1 Axes>"
      ]
     },
     "metadata": {
      "needs_background": "light"
     },
     "output_type": "display_data"
    }
   ],
   "source": [
    "plt.scatter(data['Engagement Rate'], data['Views'])\n",
    "data['Engagement Rate'].corr(data.Views)"
   ]
  },
  {
   "cell_type": "code",
   "execution_count": 15,
   "metadata": {},
   "outputs": [
    {
     "data": {
      "text/plain": [
       "Channel Name\n",
       "Galinha Pintadinha            10.584084\n",
       "RihannaVEVO                    6.431747\n",
       "Marília Mendonça               5.428497\n",
       "Bounce Patrol - Kids Songs     3.123583\n",
       "Desi Music Factory             2.765772\n",
       "                                ...    \n",
       "IndiaTV                        0.001284\n",
       "SET India                      0.001206\n",
       "ABP NEWS                       0.000889\n",
       "TEDx Talks                     0.000261\n",
       "News                           0.000000\n",
       "Name: Engagement Rate, Length: 200, dtype: float64"
      ]
     },
     "execution_count": 15,
     "metadata": {},
     "output_type": "execute_result"
    }
   ],
   "source": [
    "data.groupby(\"Channel Name\")['Engagement Rate'].sum().sort_values(ascending=False)"
   ]
  },
  {
   "cell_type": "code",
   "execution_count": 16,
   "metadata": {},
   "outputs": [
    {
     "data": {
      "text/plain": [
       "Music                      36\n",
       "Entertainment              30\n",
       "Lifestyle                  27\n",
       "Movies                     23\n",
       "Pop music                  14\n",
       "Music of Asia               8\n",
       "Hip hop music               8\n",
       "TV shows                    8\n",
       "Technology                  6\n",
       "Gaming                      6\n",
       "Action game                 5\n",
       "Society                     4\n",
       "Electronic music            4\n",
       "Hobby                       4\n",
       "Music of Latin America      4\n",
       "Rhythm and blues            3\n",
       "Action-adventure game       2\n",
       "Role-playing video game     2\n",
       "Food                        1\n",
       "Knowledge                   1\n",
       "Strategy video game         1\n",
       "Vehicles                    1\n",
       "Rock music                  1\n",
       "Name: Main topic, dtype: int64"
      ]
     },
     "execution_count": 16,
     "metadata": {},
     "output_type": "execute_result"
    }
   ],
   "source": [
    "data['Main topic'].value_counts()"
   ]
  }
 ],
 "metadata": {
  "kernelspec": {
   "display_name": "Python 3",
   "language": "python",
   "name": "python3"
  },
  "language_info": {
   "codemirror_mode": {
    "name": "ipython",
    "version": 3
   },
   "file_extension": ".py",
   "mimetype": "text/x-python",
   "name": "python",
   "nbconvert_exporter": "python",
   "pygments_lexer": "ipython3",
   "version": "3.7.4"
  }
 },
 "nbformat": 4,
 "nbformat_minor": 2
}
